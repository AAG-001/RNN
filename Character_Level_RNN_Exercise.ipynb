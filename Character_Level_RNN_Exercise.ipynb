{
  "nbformat": 4,
  "nbformat_minor": 0,
  "metadata": {
    "kernelspec": {
      "name": "python3",
      "display_name": "Python 3"
    },
    "language_info": {
      "codemirror_mode": {
        "name": "ipython",
        "version": 3
      },
      "file_extension": ".py",
      "mimetype": "text/x-python",
      "name": "python",
      "nbconvert_exporter": "python",
      "pygments_lexer": "ipython3",
      "version": "3.6.4"
    },
    "colab": {
      "name": "Character_Level_RNN_Exercise.ipynb",
      "provenance": [],
      "include_colab_link": true
    },
    "accelerator": "GPU"
  },
  "cells": [
    {
      "cell_type": "markdown",
      "metadata": {
        "id": "view-in-github",
        "colab_type": "text"
      },
      "source": [
        "<a href=\"https://colab.research.google.com/github/AAG-001/RNN/blob/master/Character_Level_RNN_Exercise.ipynb\" target=\"_parent\"><img src=\"https://colab.research.google.com/assets/colab-badge.svg\" alt=\"Open In Colab\"/></a>"
      ]
    },
    {
      "cell_type": "markdown",
      "metadata": {
        "id": "Uo6L3QqzSSXh",
        "colab_type": "text"
      },
      "source": [
        "# Character-Level LSTM in PyTorch\n",
        "\n",
        "In this notebook, I'll construct a character-level LSTM with PyTorch. The network will train character by character on some text, then generate new text character by character. As an example, I will train on Anna Karenina. **This model will be able to generate new text based on the text from the book!**\n",
        "\n",
        "This network is based off of Andrej Karpathy's [post on RNNs](http://karpathy.github.io/2015/05/21/rnn-effectiveness/) and [implementation in Torch](https://github.com/karpathy/char-rnn). Below is the general architecture of the character-wise RNN.\n",
        "\n",
        "<img src=\"https://github.com/udacity/deep-learning-v2-pytorch/blob/master/recurrent-neural-networks/char-rnn/assets/charseq.jpeg?raw=1\" width=\"500\">"
      ]
    },
    {
      "cell_type": "markdown",
      "metadata": {
        "id": "VryhpstpSSXo",
        "colab_type": "text"
      },
      "source": [
        "First let's load in our required resources for data loading and model creation."
      ]
    },
    {
      "cell_type": "code",
      "metadata": {
        "id": "P_n4AObxSSXp",
        "colab_type": "code",
        "colab": {}
      },
      "source": [
        "import numpy as np\n",
        "import torch\n",
        "from torch import nn\n",
        "import torch.nn.functional as F"
      ],
      "execution_count": 0,
      "outputs": []
    },
    {
      "cell_type": "markdown",
      "metadata": {
        "id": "07YAyJxSSSXv",
        "colab_type": "text"
      },
      "source": [
        "## Load in Data\n",
        "\n",
        "Then, we'll load the Anna Karenina text file and convert it into integers for our network to use. "
      ]
    },
    {
      "cell_type": "code",
      "metadata": {
        "id": "TfABXfm4TcTF",
        "colab_type": "code",
        "outputId": "09809e2e-92b8-43d2-aca4-1f1fcdaea30b",
        "colab": {
          "base_uri": "https://localhost:8080/",
          "height": 204
        }
      },
      "source": [
        "!wget -c https://raw.githubusercontent.com/udacity/deep-learning-v2-pytorch/master/recurrent-neural-networks/char-rnn/data/anna.txt"
      ],
      "execution_count": 0,
      "outputs": [
        {
          "output_type": "stream",
          "text": [
            "--2020-02-11 18:06:32--  https://raw.githubusercontent.com/udacity/deep-learning-v2-pytorch/master/recurrent-neural-networks/char-rnn/data/anna.txt\n",
            "Resolving raw.githubusercontent.com (raw.githubusercontent.com)... 151.101.0.133, 151.101.64.133, 151.101.128.133, ...\n",
            "Connecting to raw.githubusercontent.com (raw.githubusercontent.com)|151.101.0.133|:443... connected.\n",
            "HTTP request sent, awaiting response... 200 OK\n",
            "Length: 2025486 (1.9M) [text/plain]\n",
            "Saving to: ‘anna.txt’\n",
            "\n",
            "\ranna.txt              0%[                    ]       0  --.-KB/s               \ranna.txt            100%[===================>]   1.93M  --.-KB/s    in 0.04s   \n",
            "\n",
            "2020-02-11 18:06:33 (49.1 MB/s) - ‘anna.txt’ saved [2025486/2025486]\n",
            "\n"
          ],
          "name": "stdout"
        }
      ]
    },
    {
      "cell_type": "code",
      "metadata": {
        "id": "r1HGRtwTSSX2",
        "colab_type": "code",
        "colab": {}
      },
      "source": [
        "# open text file and read in data as `text`\n",
        "with open('anna.txt', 'r') as f:\n",
        "    text = f.read()"
      ],
      "execution_count": 0,
      "outputs": []
    },
    {
      "cell_type": "markdown",
      "metadata": {
        "id": "UbptAuEfSSX8",
        "colab_type": "text"
      },
      "source": [
        "Let's check out the first 100 characters, make sure everything is peachy. According to the [American Book Review](http://americanbookreview.org/100bestlines.asp), this is the 6th best first line of a book ever."
      ]
    },
    {
      "cell_type": "code",
      "metadata": {
        "id": "AjU6vWGRSSX-",
        "colab_type": "code",
        "outputId": "e192f96f-8814-4492-c68a-752749f92625",
        "colab": {
          "base_uri": "https://localhost:8080/",
          "height": 34
        }
      },
      "source": [
        "text[:100]"
      ],
      "execution_count": 0,
      "outputs": [
        {
          "output_type": "execute_result",
          "data": {
            "text/plain": [
              "'Chapter 1\\n\\n\\nHappy families are all alike; every unhappy family is unhappy in its own\\nway.\\n\\nEverythin'"
            ]
          },
          "metadata": {
            "tags": []
          },
          "execution_count": 4
        }
      ]
    },
    {
      "cell_type": "markdown",
      "metadata": {
        "id": "IL94c-sNSSYC",
        "colab_type": "text"
      },
      "source": [
        "### Tokenization\n",
        "\n",
        "In the cells, below, I'm creating a couple **dictionaries** to convert the characters to and from integers. Encoding the characters as integers makes it easier to use as input in the network."
      ]
    },
    {
      "cell_type": "code",
      "metadata": {
        "id": "Iav4hJG_SSYD",
        "colab_type": "code",
        "colab": {}
      },
      "source": [
        "# encode the text and map each character to an integer and vice versa\n",
        "\n",
        "# we create two dictionaries:\n",
        "# 1. int2char, which maps integers to characters\n",
        "# 2. char2int, which maps characters to unique integers\n",
        "chars = tuple(set(text))\n",
        "int2char = dict(enumerate(chars))\n",
        "char2int = {ch: ii for ii, ch in int2char.items()}\n",
        "\n",
        "# encode the text\n",
        "encoded = np.array([char2int[ch] for ch in text])"
      ],
      "execution_count": 0,
      "outputs": []
    },
    {
      "cell_type": "markdown",
      "metadata": {
        "id": "NRaW_KkxSSYL",
        "colab_type": "text"
      },
      "source": [
        "And we can see those same characters from above, encoded as integers."
      ]
    },
    {
      "cell_type": "code",
      "metadata": {
        "id": "mbzhryRpSSYN",
        "colab_type": "code",
        "outputId": "7705925a-1dde-4c30-8819-4291ec46bed9",
        "colab": {
          "base_uri": "https://localhost:8080/",
          "height": 119
        }
      },
      "source": [
        "encoded[:100]"
      ],
      "execution_count": 0,
      "outputs": [
        {
          "output_type": "execute_result",
          "data": {
            "text/plain": [
              "array([30, 22, 62, 66, 12, 23, 20,  6, 65, 31, 31, 31, 69, 62, 66, 66, 16,\n",
              "        6, 56, 62, 46,  0, 50,  0, 23, 10,  6, 62, 20, 23,  6, 62, 50, 50,\n",
              "        6, 62, 50,  0,  2, 23, 28,  6, 23, 51, 23, 20, 16,  6, 47, 64, 22,\n",
              "       62, 66, 66, 16,  6, 56, 62, 46,  0, 50, 16,  6,  0, 10,  6, 47, 64,\n",
              "       22, 62, 66, 66, 16,  6,  0, 64,  6,  0, 12, 10,  6, 39, 17, 64, 31,\n",
              "       17, 62, 16, 21, 31, 31,  5, 51, 23, 20, 16, 12, 22,  0, 64])"
            ]
          },
          "metadata": {
            "tags": []
          },
          "execution_count": 6
        }
      ]
    },
    {
      "cell_type": "markdown",
      "metadata": {
        "id": "pcAMOe60SSYS",
        "colab_type": "text"
      },
      "source": [
        "## Pre-processing the data\n",
        "\n",
        "As you can see in our char-RNN image above, our LSTM expects an input that is **one-hot encoded** meaning that each character is converted into an integer (via our created dictionary) and *then* converted into a column vector where only it's corresponding integer index will have the value of 1 and the rest of the vector will be filled with 0's. Since we're one-hot encoding the data, let's make a function to do that!\n"
      ]
    },
    {
      "cell_type": "code",
      "metadata": {
        "id": "GBZHKEABSSYT",
        "colab_type": "code",
        "colab": {}
      },
      "source": [
        "def one_hot_encode(arr, n_labels):\n",
        "    \n",
        "    # Initialize the the encoded array\n",
        "    one_hot = np.zeros((arr.size, n_labels), dtype=np.float32)\n",
        "    \n",
        "    # Fill the appropriate elements with ones\n",
        "    one_hot[np.arange(one_hot.shape[0]), arr.flatten()] = 1.\n",
        "    \n",
        "    # Finally reshape it to get back to the original array\n",
        "    one_hot = one_hot.reshape((*arr.shape, n_labels))\n",
        "    \n",
        "    return one_hot"
      ],
      "execution_count": 0,
      "outputs": []
    },
    {
      "cell_type": "code",
      "metadata": {
        "id": "x4QTSxRySSYX",
        "colab_type": "code",
        "outputId": "ae0d6235-21f3-4d51-bf66-c3704a1c1cfc",
        "colab": {
          "base_uri": "https://localhost:8080/",
          "height": 68
        }
      },
      "source": [
        "# check that the function works as expected\n",
        "test_seq = np.array([[3, 5, 1]])\n",
        "one_hot = one_hot_encode(test_seq, 8)\n",
        "\n",
        "print(one_hot)"
      ],
      "execution_count": 0,
      "outputs": [
        {
          "output_type": "stream",
          "text": [
            "[[[0. 0. 0. 1. 0. 0. 0. 0.]\n",
            "  [0. 0. 0. 0. 0. 1. 0. 0.]\n",
            "  [0. 1. 0. 0. 0. 0. 0. 0.]]]\n"
          ],
          "name": "stdout"
        }
      ]
    },
    {
      "cell_type": "markdown",
      "metadata": {
        "id": "DOILpzRoSSYd",
        "colab_type": "text"
      },
      "source": [
        "## Making training mini-batches\n",
        "\n",
        "\n",
        "To train on this data, we also want to create mini-batches for training. Remember that we want our batches to be multiple sequences of some desired number of sequence steps. Considering a simple example, our batches would look like this:\n",
        "\n",
        "<img src=\"https://github.com/udacity/deep-learning-v2-pytorch/blob/master/recurrent-neural-networks/char-rnn/assets/sequence_batching@1x.png?raw=1\" width=500px>\n",
        "\n",
        "\n",
        "<br>\n",
        "\n",
        "In this example, we'll take the encoded characters (passed in as the `arr` parameter) and split them into multiple sequences, given by `batch_size`. Each of our sequences will be `seq_length` long.\n",
        "\n",
        "### Creating Batches\n",
        "\n",
        "**1. The first thing we need to do is discard some of the text so we only have completely full mini-batches. **\n",
        "\n",
        "Each batch contains $N \\times M$ characters, where $N$ is the batch size (the number of sequences in a batch) and $M$ is the seq_length or number of time steps in a sequence. Then, to get the total number of batches, $K$, that we can make from the array `arr`, you divide the length of `arr` by the number of characters per batch. Once you know the number of batches, you can get the total number of characters to keep from `arr`, $N * M * K$.\n",
        "\n",
        "**2. After that, we need to split `arr` into $N$ batches. ** \n",
        "\n",
        "You can do this using `arr.reshape(size)` where `size` is a tuple containing the dimensions sizes of the reshaped array. We know we want $N$ sequences in a batch, so let's make that the size of the first dimension. For the second dimension, you can use `-1` as a placeholder in the size, it'll fill up the array with the appropriate data for you. After this, you should have an array that is $N \\times (M * K)$.\n",
        "\n",
        "**3. Now that we have this array, we can iterate through it to get our mini-batches. **\n",
        "\n",
        "The idea is each batch is a $N \\times M$ window on the $N \\times (M * K)$ array. For each subsequent batch, the window moves over by `seq_length`. We also want to create both the input and target arrays. Remember that the targets are just the inputs shifted over by one character. The way I like to do this window is use `range` to take steps of size `n_steps` from $0$ to `arr.shape[1]`, the total number of tokens in each sequence. That way, the integers you get from `range` always point to the start of a batch, and each window is `seq_length` wide.\n",
        "\n",
        "> **TODO:** Write the code for creating batches in the function below. The exercises in this notebook _will not be easy_. I've provided a notebook with solutions alongside this notebook. If you get stuck, checkout the solutions. The most important thing is that you don't copy and paste the code into here, **type out the solution code yourself.**"
      ]
    },
    {
      "cell_type": "code",
      "metadata": {
        "id": "JboN64gGSSYe",
        "colab_type": "code",
        "colab": {}
      },
      "source": [
        "def get_batches(arr, batch_size, seq_length):\n",
        "    '''Create a generator that returns batches of size\n",
        "       batch_size x seq_length from arr.\n",
        "       \n",
        "       Arguments\n",
        "       ---------\n",
        "       arr: Array you want to make batches from\n",
        "       batch_size: Batch size, the number of sequences per batch\n",
        "       seq_length: Number of encoded chars in a sequence\n",
        "    '''\n",
        "    \n",
        "    batch_size_total=batch_size*seq_length\n",
        "    ## TODO: Get the number of batches we can make\n",
        "    n_batches = len(arr)//batch_size_total\n",
        "    \n",
        "    ## TODO: Keep only enough characters to make full batches\n",
        "    arr = arr[:n_batches*batch_size_total]\n",
        "    \n",
        "    ## TODO: Reshape into batch_size rows\n",
        "    arr = arr.reshape(batch_size,-1)\n",
        "    \n",
        "    ## TODO: Iterate over the batches using a window of size seq_length\n",
        "    for n in range(0, arr.shape[1], seq_length):\n",
        "        # The features\n",
        "        x = arr[:,n:n+seq_length]\n",
        "        # The targets, shifted by one\n",
        "        y = np.zeros_like(x)\n",
        "        try:\n",
        "          y[:, :-1],y[:, -1]=x[:, 1:],arr[:, n+seq_length]\n",
        "        except IndexError:\n",
        "          y[:,:-1],y[:,-1]=x[:, 1:],arr[:, 0]\n",
        "        yield x, y"
      ],
      "execution_count": 0,
      "outputs": []
    },
    {
      "cell_type": "markdown",
      "metadata": {
        "id": "GwYaFiVZSSYh",
        "colab_type": "text"
      },
      "source": [
        "### Test Your Implementation\n",
        "\n",
        "Now I'll make some data sets and we can check out what's going on as we batch data. Here, as an example, I'm going to use a batch size of 8 and 50 sequence steps."
      ]
    },
    {
      "cell_type": "code",
      "metadata": {
        "id": "6e-DDhuvSSYi",
        "colab_type": "code",
        "colab": {}
      },
      "source": [
        "batches = get_batches(encoded, 8, 50)\n",
        "x, y = next(batches)"
      ],
      "execution_count": 0,
      "outputs": []
    },
    {
      "cell_type": "code",
      "metadata": {
        "id": "wH8YZPycSSYm",
        "colab_type": "code",
        "outputId": "86aa62da-0f5d-4b07-ac75-71f431a69a43",
        "colab": {
          "base_uri": "https://localhost:8080/",
          "height": 340
        }
      },
      "source": [
        "# printing out the first 10 items in a sequence\n",
        "print('x\\n', x[:10, :10])\n",
        "print('\\ny\\n', y[:10, :10])"
      ],
      "execution_count": 0,
      "outputs": [
        {
          "output_type": "stream",
          "text": [
            "x\n",
            " [[30 22 62 66 12 23 20  6 65 31]\n",
            " [10 39 64  6 12 22 62 12  6 62]\n",
            " [23 64 33  6 39 20  6 62  6 56]\n",
            " [10  6 12 22 23  6 40 22  0 23]\n",
            " [ 6 10 62 17  6 22 23 20  6 12]\n",
            " [40 47 10 10  0 39 64  6 62 64]\n",
            " [ 6  3 64 64 62  6 22 62 33  6]\n",
            " [82 68 50 39 64 10  2 16 21  6]]\n",
            "\n",
            "y\n",
            " [[22 62 66 12 23 20  6 65 31 31]\n",
            " [39 64  6 12 22 62 12  6 62 12]\n",
            " [64 33  6 39 20  6 62  6 56 39]\n",
            " [ 6 12 22 23  6 40 22  0 23 56]\n",
            " [10 62 17  6 22 23 20  6 12 23]\n",
            " [47 10 10  0 39 64  6 62 64 33]\n",
            " [ 3 64 64 62  6 22 62 33  6 10]\n",
            " [68 50 39 64 10  2 16 21  6 18]]\n"
          ],
          "name": "stdout"
        }
      ]
    },
    {
      "cell_type": "markdown",
      "metadata": {
        "id": "GhiR0jVVSSYp",
        "colab_type": "text"
      },
      "source": [
        "If you implemented `get_batches` correctly, the above output should look something like \n",
        "```\n",
        "x\n",
        " [[25  8 60 11 45 27 28 73  1  2]\n",
        " [17  7 20 73 45  8 60 45 73 60]\n",
        " [27 20 80 73  7 28 73 60 73 65]\n",
        " [17 73 45  8 27 73 66  8 46 27]\n",
        " [73 17 60 12 73  8 27 28 73 45]\n",
        " [66 64 17 17 46  7 20 73 60 20]\n",
        " [73 76 20 20 60 73  8 60 80 73]\n",
        " [47 35 43  7 20 17 24 50 37 73]]\n",
        "\n",
        "y\n",
        " [[ 8 60 11 45 27 28 73  1  2  2]\n",
        " [ 7 20 73 45  8 60 45 73 60 45]\n",
        " [20 80 73  7 28 73 60 73 65  7]\n",
        " [73 45  8 27 73 66  8 46 27 65]\n",
        " [17 60 12 73  8 27 28 73 45 27]\n",
        " [64 17 17 46  7 20 73 60 20 80]\n",
        " [76 20 20 60 73  8 60 80 73 17]\n",
        " [35 43  7 20 17 24 50 37 73 36]]\n",
        " ```\n",
        " although the exact numbers may be different. Check to make sure the data is shifted over one step for `y`."
      ]
    },
    {
      "cell_type": "markdown",
      "metadata": {
        "id": "rH2jllu3SSYq",
        "colab_type": "text"
      },
      "source": [
        "---\n",
        "## Defining the network with PyTorch\n",
        "\n",
        "Below is where you'll define the network.\n",
        "\n",
        "<img src=\"https://github.com/udacity/deep-learning-v2-pytorch/blob/master/recurrent-neural-networks/char-rnn/assets/charRNN.png?raw=1\" width=500px>\n",
        "\n",
        "Next, you'll use PyTorch to define the architecture of the network. We start by defining the layers and operations we want. Then, define a method for the forward pass. You've also been given a method for predicting characters."
      ]
    },
    {
      "cell_type": "markdown",
      "metadata": {
        "id": "GT9WvPVoSSYr",
        "colab_type": "text"
      },
      "source": [
        "### Model Structure\n",
        "\n",
        "In `__init__` the suggested structure is as follows:\n",
        "* Create and store the necessary dictionaries (this has been done for you)\n",
        "* Define an LSTM layer that takes as params: an input size (the number of characters), a hidden layer size `n_hidden`, a number of layers `n_layers`, a dropout probability `drop_prob`, and a batch_first boolean (True, since we are batching)\n",
        "* Define a dropout layer with `drop_prob`\n",
        "* Define a fully-connected layer with params: input size `n_hidden` and output size (the number of characters)\n",
        "* Finally, initialize the weights (again, this has been given)\n",
        "\n",
        "Note that some parameters have been named and given in the `__init__` function, and we use them and store them by doing something like `self.drop_prob = drop_prob`."
      ]
    },
    {
      "cell_type": "markdown",
      "metadata": {
        "id": "3ebMiDZeSSYv",
        "colab_type": "text"
      },
      "source": [
        "---\n",
        "### LSTM Inputs/Outputs\n",
        "\n",
        "You can create a basic [LSTM layer](https://pytorch.org/docs/stable/nn.html#lstm) as follows\n",
        "\n",
        "```python\n",
        "self.lstm = nn.LSTM(input_size, n_hidden, n_layers, \n",
        "                            dropout=drop_prob, batch_first=True)\n",
        "```\n",
        "\n",
        "where `input_size` is the number of characters this cell expects to see as sequential input, and `n_hidden` is the number of units in the hidden layers in the cell. And we can add dropout by adding a dropout parameter with a specified probability; this will automatically add dropout to the inputs or outputs. Finally, in the `forward` function, we can stack up the LSTM cells into layers using `.view`. With this, you pass in a list of cells and it will send the output of one cell into the next cell.\n",
        "\n",
        "We also need to create an initial hidden state of all zeros. This is done like so\n",
        "\n",
        "```python\n",
        "self.init_hidden()\n",
        "```"
      ]
    },
    {
      "cell_type": "code",
      "metadata": {
        "id": "m06jw2odSSYw",
        "colab_type": "code",
        "outputId": "339acffd-41d3-41de-ed1a-1961984ff459",
        "colab": {
          "base_uri": "https://localhost:8080/",
          "height": 34
        }
      },
      "source": [
        "# check if GPU is available\n",
        "train_on_gpu = torch.cuda.is_available()\n",
        "if(train_on_gpu):\n",
        "    print('Training on GPU!')\n",
        "else: \n",
        "    print('No GPU available, training on CPU; consider making n_epochs very small.')"
      ],
      "execution_count": 0,
      "outputs": [
        {
          "output_type": "stream",
          "text": [
            "Training on GPU!\n"
          ],
          "name": "stdout"
        }
      ]
    },
    {
      "cell_type": "code",
      "metadata": {
        "id": "EW45VtzdSSY0",
        "colab_type": "code",
        "colab": {}
      },
      "source": [
        "class CharRNN(nn.Module):\n",
        "    \n",
        "    def __init__(self, tokens, n_hidden=256, n_layers=2,\n",
        "                               drop_prob=0.5, lr=0.001):\n",
        "        super().__init__()\n",
        "        self.drop_prob = drop_prob\n",
        "        self.n_layers = n_layers\n",
        "        self.n_hidden = n_hidden\n",
        "        self.lr = lr\n",
        "        \n",
        "        # creating character dictionaries\n",
        "        self.chars = tokens\n",
        "        self.int2char = dict(enumerate(self.chars))\n",
        "        self.char2int = {ch: ii for ii, ch in self.int2char.items()}\n",
        "        \n",
        "        ## TODO: define the layers of the model\n",
        "        self.lstm = nn.LSTM(len(self.chars), n_hidden, n_layers, \n",
        "                            dropout=drop_prob, batch_first=True)\n",
        "        \n",
        "        self.dropout=nn.Dropout(drop_prob)\n",
        "\n",
        "        self.fc=nn.Linear(n_hidden,len(self.chars))\n",
        "    \n",
        "    def forward(self, x, hidden):\n",
        "        ''' Forward pass through the network. \n",
        "            These inputs are x, and the hidden/cell state `hidden`. '''\n",
        "                \n",
        "        ## TODO: Get the outputs and the new hidden state from the lstm\n",
        "        r_output, hidden = self.lstm(x, hidden)\n",
        "        \n",
        "        ## TODO: pass through a dropout layer\n",
        "        out = self.dropout(r_output)\n",
        "        \n",
        "        # Stack up LSTM outputs using view\n",
        "        # you may need to use contiguous to reshape the output\n",
        "        out = out.contiguous().view(-1, self.n_hidden)\n",
        "        \n",
        "        ## TODO: put x through the fully-connected layer\n",
        "        out = self.fc(out)\n",
        "\n",
        "\n",
        "        # return the final output and the hidden state\n",
        "        return out, hidden\n",
        "    \n",
        "    \n",
        "    def init_hidden(self, batch_size):\n",
        "        ''' Initializes hidden state '''\n",
        "        # Create two new tensors with sizes n_layers x batch_size x n_hidden,\n",
        "        # initialized to zero, for hidden state and cell state of LSTM\n",
        "        weight = next(self.parameters()).data\n",
        "        \n",
        "        if (train_on_gpu):\n",
        "            hidden = (weight.new(self.n_layers, batch_size, self.n_hidden).zero_().cuda(),\n",
        "                  weight.new(self.n_layers, batch_size, self.n_hidden).zero_().cuda())\n",
        "        else:\n",
        "            hidden = (weight.new(self.n_layers, batch_size, self.n_hidden).zero_(),\n",
        "                      weight.new(self.n_layers, batch_size, self.n_hidden).zero_())\n",
        "        \n",
        "        return hidden\n",
        "        "
      ],
      "execution_count": 0,
      "outputs": []
    },
    {
      "cell_type": "markdown",
      "metadata": {
        "id": "_1xpJNzDSSY6",
        "colab_type": "text"
      },
      "source": [
        "## Time to train\n",
        "\n",
        "The train function gives us the ability to set the number of epochs, the learning rate, and other parameters.\n",
        "\n",
        "Below we're using an Adam optimizer and cross entropy loss since we are looking at character class scores as output. We calculate the loss and perform backpropagation, as usual!\n",
        "\n",
        "A couple of details about training: \n",
        ">* Within the batch loop, we detach the hidden state from its history; this time setting it equal to a new *tuple* variable because an LSTM has a hidden state that is a tuple of the hidden and cell states.\n",
        "* We use [`clip_grad_norm_`](https://pytorch.org/docs/stable/_modules/torch/nn/utils/clip_grad.html) to help prevent exploding gradients."
      ]
    },
    {
      "cell_type": "code",
      "metadata": {
        "id": "BwTdNHmTSSY6",
        "colab_type": "code",
        "colab": {}
      },
      "source": [
        "def train(net, data, epochs=10, batch_size=10, seq_length=50, lr=0.001, clip=5, val_frac=0.1, print_every=10):\n",
        "    ''' Training a network \n",
        "    \n",
        "        Arguments\n",
        "        ---------\n",
        "        \n",
        "        net: CharRNN network\n",
        "        data: text data to train the network\n",
        "        epochs: Number of epochs to train\n",
        "        batch_size: Number of mini-sequences per mini-batch, aka batch size\n",
        "        seq_length: Number of character steps per mini-batch\n",
        "        lr: learning rate\n",
        "        clip: gradient clipping\n",
        "        val_frac: Fraction of data to hold out for validation\n",
        "        print_every: Number of steps for printing training and validation loss\n",
        "    \n",
        "    '''\n",
        "    net.train()\n",
        "    \n",
        "    opt = torch.optim.Adam(net.parameters(), lr=lr)\n",
        "    criterion = nn.CrossEntropyLoss()\n",
        "    \n",
        "    # create training and validation data\n",
        "    val_idx = int(len(data)*(1-val_frac))\n",
        "    data, val_data = data[:val_idx], data[val_idx:]\n",
        "    \n",
        "    if(train_on_gpu):\n",
        "        net.cuda()\n",
        "    \n",
        "    counter = 0\n",
        "    n_chars = len(net.chars)\n",
        "    for e in range(epochs):\n",
        "        # initialize hidden state\n",
        "        h = net.init_hidden(batch_size)\n",
        "        \n",
        "        for x, y in get_batches(data, batch_size, seq_length):\n",
        "            counter += 1\n",
        "            \n",
        "            # One-hot encode our data and make them Torch tensors\n",
        "            x = one_hot_encode(x, n_chars)\n",
        "            inputs, targets = torch.from_numpy(x), torch.from_numpy(y)\n",
        "            \n",
        "            if(train_on_gpu):\n",
        "                inputs, targets = inputs.cuda(), targets.cuda()\n",
        "\n",
        "            # Creating new variables for the hidden state, otherwise\n",
        "            # we'd backprop through the entire training history\n",
        "            h = tuple([each.data for each in h])\n",
        "\n",
        "            # zero accumulated gradients\n",
        "            net.zero_grad()\n",
        "            \n",
        "            # get the output from the model\n",
        "            output, h = net(inputs, h)\n",
        "            \n",
        "            # calculate the loss and perform backprop\n",
        "            loss = criterion(output, targets.view(batch_size*seq_length).long())\n",
        "            loss.backward()\n",
        "            # `clip_grad_norm` helps prevent the exploding gradient problem in RNNs / LSTMs.\n",
        "            nn.utils.clip_grad_norm_(net.parameters(), clip)\n",
        "            opt.step()\n",
        "            \n",
        "            # loss stats\n",
        "            if counter % print_every == 0:\n",
        "                # Get validation loss\n",
        "                val_h = net.init_hidden(batch_size)\n",
        "                val_losses = []\n",
        "                net.eval()\n",
        "                for x, y in get_batches(val_data, batch_size, seq_length):\n",
        "                    # One-hot encode our data and make them Torch tensors\n",
        "                    x = one_hot_encode(x, n_chars)\n",
        "                    x, y = torch.from_numpy(x), torch.from_numpy(y)\n",
        "                    \n",
        "                    # Creating new variables for the hidden state, otherwise\n",
        "                    # we'd backprop through the entire training history\n",
        "                    val_h = tuple([each.data for each in val_h])\n",
        "                    \n",
        "                    inputs, targets = x, y\n",
        "                    if(train_on_gpu):\n",
        "                        inputs, targets = inputs.cuda(), targets.cuda()\n",
        "\n",
        "                    output, val_h = net(inputs, val_h)\n",
        "                    val_loss = criterion(output, targets.view(batch_size*seq_length).long())\n",
        "                \n",
        "                    val_losses.append(val_loss.item())\n",
        "                \n",
        "                net.train() # reset to train mode after iterationg through validation data\n",
        "                \n",
        "                print(\"Epoch: {}/{}...\".format(e+1, epochs),\n",
        "                      \"Step: {}...\".format(counter),\n",
        "                      \"Loss: {:.4f}...\".format(loss.item()),\n",
        "                      \"Val Loss: {:.4f}\".format(np.mean(val_losses)))"
      ],
      "execution_count": 0,
      "outputs": []
    },
    {
      "cell_type": "markdown",
      "metadata": {
        "id": "sIQHxEZ5SSY9",
        "colab_type": "text"
      },
      "source": [
        "## Instantiating the model\n",
        "\n",
        "Now we can actually train the network. First we'll create the network itself, with some given hyperparameters. Then, define the mini-batches sizes, and start training!"
      ]
    },
    {
      "cell_type": "code",
      "metadata": {
        "id": "8y7MPcK_SSY-",
        "colab_type": "code",
        "outputId": "7d8ff664-1663-4bfd-a69a-9a289deb1aa3",
        "colab": {
          "base_uri": "https://localhost:8080/",
          "height": 102
        }
      },
      "source": [
        "## TODO: set your model hyperparameters\n",
        "# define and print the net\n",
        "n_hidden=512\n",
        "n_layers=2\n",
        "\n",
        "net = CharRNN(chars, n_hidden, n_layers)\n",
        "print(net)"
      ],
      "execution_count": 0,
      "outputs": [
        {
          "output_type": "stream",
          "text": [
            "CharRNN(\n",
            "  (lstm): LSTM(83, 512, num_layers=2, batch_first=True, dropout=0.5)\n",
            "  (dropout): Dropout(p=0.5, inplace=False)\n",
            "  (fc): Linear(in_features=512, out_features=83, bias=True)\n",
            ")\n"
          ],
          "name": "stdout"
        }
      ]
    },
    {
      "cell_type": "markdown",
      "metadata": {
        "id": "YeUWDz4DSSZD",
        "colab_type": "text"
      },
      "source": [
        "### Set your training hyperparameters!"
      ]
    },
    {
      "cell_type": "code",
      "metadata": {
        "scrolled": true,
        "id": "8yMX1P1jSSZE",
        "colab_type": "code",
        "outputId": "55644459-86d2-4d2a-deb9-43c01487aeab",
        "colab": {
          "base_uri": "https://localhost:8080/",
          "height": 1000
        }
      },
      "source": [
        "batch_size = 128\n",
        "seq_length = 100\n",
        "n_epochs = 20 # start small if you are just testing initial behavior\n",
        "\n",
        "# train the model\n",
        "train(net, encoded, epochs=n_epochs, batch_size=batch_size, seq_length=seq_length, lr=0.001, print_every=10)"
      ],
      "execution_count": 0,
      "outputs": [
        {
          "output_type": "stream",
          "text": [
            "Epoch: 1/20... Step: 10... Loss: 3.2673... Val Loss: 3.2162\n",
            "Epoch: 1/20... Step: 20... Loss: 3.1533... Val Loss: 3.1417\n",
            "Epoch: 1/20... Step: 30... Loss: 3.1471... Val Loss: 3.1268\n",
            "Epoch: 1/20... Step: 40... Loss: 3.1144... Val Loss: 3.1185\n",
            "Epoch: 1/20... Step: 50... Loss: 3.1470... Val Loss: 3.1172\n",
            "Epoch: 1/20... Step: 60... Loss: 3.1168... Val Loss: 3.1153\n",
            "Epoch: 1/20... Step: 70... Loss: 3.1068... Val Loss: 3.1127\n",
            "Epoch: 1/20... Step: 80... Loss: 3.1201... Val Loss: 3.1063\n",
            "Epoch: 1/20... Step: 90... Loss: 3.1105... Val Loss: 3.0917\n",
            "Epoch: 1/20... Step: 100... Loss: 3.0657... Val Loss: 3.0527\n",
            "Epoch: 1/20... Step: 110... Loss: 3.0379... Val Loss: 3.0041\n",
            "Epoch: 1/20... Step: 120... Loss: 2.9370... Val Loss: 2.9217\n",
            "Epoch: 1/20... Step: 130... Loss: 2.8307... Val Loss: 2.7868\n",
            "Epoch: 2/20... Step: 140... Loss: 2.7362... Val Loss: 2.6781\n",
            "Epoch: 2/20... Step: 150... Loss: 2.6356... Val Loss: 2.5777\n",
            "Epoch: 2/20... Step: 160... Loss: 2.5684... Val Loss: 2.5188\n",
            "Epoch: 2/20... Step: 170... Loss: 2.4901... Val Loss: 2.4746\n",
            "Epoch: 2/20... Step: 180... Loss: 2.4608... Val Loss: 2.4437\n",
            "Epoch: 2/20... Step: 190... Loss: 2.4138... Val Loss: 2.4033\n",
            "Epoch: 2/20... Step: 200... Loss: 2.4293... Val Loss: 2.3752\n",
            "Epoch: 2/20... Step: 210... Loss: 2.3786... Val Loss: 2.3466\n",
            "Epoch: 2/20... Step: 220... Loss: 2.3383... Val Loss: 2.3114\n",
            "Epoch: 2/20... Step: 230... Loss: 2.3135... Val Loss: 2.2806\n",
            "Epoch: 2/20... Step: 240... Loss: 2.2938... Val Loss: 2.2523\n",
            "Epoch: 2/20... Step: 250... Loss: 2.2264... Val Loss: 2.2269\n",
            "Epoch: 2/20... Step: 260... Loss: 2.1984... Val Loss: 2.1988\n",
            "Epoch: 2/20... Step: 270... Loss: 2.2073... Val Loss: 2.1743\n",
            "Epoch: 3/20... Step: 280... Loss: 2.2026... Val Loss: 2.1522\n",
            "Epoch: 3/20... Step: 290... Loss: 2.1603... Val Loss: 2.1258\n",
            "Epoch: 3/20... Step: 300... Loss: 2.1385... Val Loss: 2.1077\n",
            "Epoch: 3/20... Step: 310... Loss: 2.1128... Val Loss: 2.0873\n",
            "Epoch: 3/20... Step: 320... Loss: 2.0893... Val Loss: 2.0663\n",
            "Epoch: 3/20... Step: 330... Loss: 2.0503... Val Loss: 2.0485\n",
            "Epoch: 3/20... Step: 340... Loss: 2.0742... Val Loss: 2.0265\n",
            "Epoch: 3/20... Step: 350... Loss: 2.0564... Val Loss: 2.0146\n",
            "Epoch: 3/20... Step: 360... Loss: 1.9838... Val Loss: 1.9909\n",
            "Epoch: 3/20... Step: 370... Loss: 2.0104... Val Loss: 1.9765\n",
            "Epoch: 3/20... Step: 380... Loss: 1.9898... Val Loss: 1.9605\n",
            "Epoch: 3/20... Step: 390... Loss: 1.9682... Val Loss: 1.9430\n",
            "Epoch: 3/20... Step: 400... Loss: 1.9263... Val Loss: 1.9289\n",
            "Epoch: 3/20... Step: 410... Loss: 1.9494... Val Loss: 1.9151\n",
            "Epoch: 4/20... Step: 420... Loss: 1.9271... Val Loss: 1.8978\n",
            "Epoch: 4/20... Step: 430... Loss: 1.9168... Val Loss: 1.8835\n",
            "Epoch: 4/20... Step: 440... Loss: 1.9016... Val Loss: 1.8751\n",
            "Epoch: 4/20... Step: 450... Loss: 1.8505... Val Loss: 1.8548\n",
            "Epoch: 4/20... Step: 460... Loss: 1.8383... Val Loss: 1.8472\n",
            "Epoch: 4/20... Step: 470... Loss: 1.8620... Val Loss: 1.8420\n",
            "Epoch: 4/20... Step: 480... Loss: 1.8502... Val Loss: 1.8276\n",
            "Epoch: 4/20... Step: 490... Loss: 1.8542... Val Loss: 1.8141\n",
            "Epoch: 4/20... Step: 500... Loss: 1.8433... Val Loss: 1.8017\n",
            "Epoch: 4/20... Step: 510... Loss: 1.8194... Val Loss: 1.7924\n",
            "Epoch: 4/20... Step: 520... Loss: 1.8315... Val Loss: 1.7751\n",
            "Epoch: 4/20... Step: 530... Loss: 1.7809... Val Loss: 1.7682\n",
            "Epoch: 4/20... Step: 540... Loss: 1.7536... Val Loss: 1.7582\n",
            "Epoch: 4/20... Step: 550... Loss: 1.8015... Val Loss: 1.7486\n",
            "Epoch: 5/20... Step: 560... Loss: 1.7649... Val Loss: 1.7407\n",
            "Epoch: 5/20... Step: 570... Loss: 1.7608... Val Loss: 1.7292\n",
            "Epoch: 5/20... Step: 580... Loss: 1.7257... Val Loss: 1.7181\n",
            "Epoch: 5/20... Step: 590... Loss: 1.7199... Val Loss: 1.7113\n",
            "Epoch: 5/20... Step: 600... Loss: 1.7143... Val Loss: 1.7062\n",
            "Epoch: 5/20... Step: 610... Loss: 1.7110... Val Loss: 1.6961\n",
            "Epoch: 5/20... Step: 620... Loss: 1.7108... Val Loss: 1.6926\n",
            "Epoch: 5/20... Step: 630... Loss: 1.7259... Val Loss: 1.6838\n",
            "Epoch: 5/20... Step: 640... Loss: 1.6941... Val Loss: 1.6771\n",
            "Epoch: 5/20... Step: 650... Loss: 1.6884... Val Loss: 1.6658\n",
            "Epoch: 5/20... Step: 660... Loss: 1.6580... Val Loss: 1.6604\n",
            "Epoch: 5/20... Step: 670... Loss: 1.6761... Val Loss: 1.6539\n",
            "Epoch: 5/20... Step: 680... Loss: 1.6845... Val Loss: 1.6499\n",
            "Epoch: 5/20... Step: 690... Loss: 1.6517... Val Loss: 1.6413\n",
            "Epoch: 6/20... Step: 700... Loss: 1.6542... Val Loss: 1.6318\n",
            "Epoch: 6/20... Step: 710... Loss: 1.6407... Val Loss: 1.6313\n",
            "Epoch: 6/20... Step: 720... Loss: 1.6281... Val Loss: 1.6212\n",
            "Epoch: 6/20... Step: 730... Loss: 1.6474... Val Loss: 1.6138\n",
            "Epoch: 6/20... Step: 740... Loss: 1.6160... Val Loss: 1.6120\n",
            "Epoch: 6/20... Step: 750... Loss: 1.5942... Val Loss: 1.6074\n",
            "Epoch: 6/20... Step: 760... Loss: 1.6311... Val Loss: 1.5987\n",
            "Epoch: 6/20... Step: 770... Loss: 1.6051... Val Loss: 1.5950\n",
            "Epoch: 6/20... Step: 780... Loss: 1.5980... Val Loss: 1.5905\n",
            "Epoch: 6/20... Step: 790... Loss: 1.5763... Val Loss: 1.5867\n",
            "Epoch: 6/20... Step: 800... Loss: 1.5996... Val Loss: 1.5789\n",
            "Epoch: 6/20... Step: 810... Loss: 1.5859... Val Loss: 1.5748\n",
            "Epoch: 6/20... Step: 820... Loss: 1.5444... Val Loss: 1.5750\n",
            "Epoch: 6/20... Step: 830... Loss: 1.5960... Val Loss: 1.5683\n",
            "Epoch: 7/20... Step: 840... Loss: 1.5450... Val Loss: 1.5611\n",
            "Epoch: 7/20... Step: 850... Loss: 1.5610... Val Loss: 1.5572\n",
            "Epoch: 7/20... Step: 860... Loss: 1.5490... Val Loss: 1.5529\n",
            "Epoch: 7/20... Step: 870... Loss: 1.5536... Val Loss: 1.5470\n",
            "Epoch: 7/20... Step: 880... Loss: 1.5668... Val Loss: 1.5471\n",
            "Epoch: 7/20... Step: 890... Loss: 1.5599... Val Loss: 1.5395\n",
            "Epoch: 7/20... Step: 900... Loss: 1.5345... Val Loss: 1.5387\n",
            "Epoch: 7/20... Step: 910... Loss: 1.5108... Val Loss: 1.5396\n",
            "Epoch: 7/20... Step: 920... Loss: 1.5305... Val Loss: 1.5313\n",
            "Epoch: 7/20... Step: 930... Loss: 1.5196... Val Loss: 1.5245\n",
            "Epoch: 7/20... Step: 940... Loss: 1.5278... Val Loss: 1.5202\n",
            "Epoch: 7/20... Step: 950... Loss: 1.5359... Val Loss: 1.5180\n",
            "Epoch: 7/20... Step: 960... Loss: 1.5312... Val Loss: 1.5153\n",
            "Epoch: 7/20... Step: 970... Loss: 1.5346... Val Loss: 1.5101\n",
            "Epoch: 8/20... Step: 980... Loss: 1.5097... Val Loss: 1.5069\n",
            "Epoch: 8/20... Step: 990... Loss: 1.5071... Val Loss: 1.5029\n",
            "Epoch: 8/20... Step: 1000... Loss: 1.5092... Val Loss: 1.5022\n",
            "Epoch: 8/20... Step: 1010... Loss: 1.5387... Val Loss: 1.4964\n",
            "Epoch: 8/20... Step: 1020... Loss: 1.5135... Val Loss: 1.4978\n",
            "Epoch: 8/20... Step: 1030... Loss: 1.4899... Val Loss: 1.4883\n",
            "Epoch: 8/20... Step: 1040... Loss: 1.4988... Val Loss: 1.4904\n",
            "Epoch: 8/20... Step: 1050... Loss: 1.4772... Val Loss: 1.4866\n",
            "Epoch: 8/20... Step: 1060... Loss: 1.4845... Val Loss: 1.4812\n",
            "Epoch: 8/20... Step: 1070... Loss: 1.4884... Val Loss: 1.4801\n",
            "Epoch: 8/20... Step: 1080... Loss: 1.4797... Val Loss: 1.4752\n",
            "Epoch: 8/20... Step: 1090... Loss: 1.4649... Val Loss: 1.4749\n",
            "Epoch: 8/20... Step: 1100... Loss: 1.4597... Val Loss: 1.4704\n",
            "Epoch: 8/20... Step: 1110... Loss: 1.4741... Val Loss: 1.4682\n",
            "Epoch: 9/20... Step: 1120... Loss: 1.4751... Val Loss: 1.4642\n",
            "Epoch: 9/20... Step: 1130... Loss: 1.4786... Val Loss: 1.4662\n",
            "Epoch: 9/20... Step: 1140... Loss: 1.4715... Val Loss: 1.4597\n",
            "Epoch: 9/20... Step: 1150... Loss: 1.4840... Val Loss: 1.4577\n",
            "Epoch: 9/20... Step: 1160... Loss: 1.4448... Val Loss: 1.4591\n",
            "Epoch: 9/20... Step: 1170... Loss: 1.4466... Val Loss: 1.4591\n",
            "Epoch: 9/20... Step: 1180... Loss: 1.4533... Val Loss: 1.4609\n",
            "Epoch: 9/20... Step: 1190... Loss: 1.4730... Val Loss: 1.4520\n",
            "Epoch: 9/20... Step: 1200... Loss: 1.4275... Val Loss: 1.4464\n",
            "Epoch: 9/20... Step: 1210... Loss: 1.4400... Val Loss: 1.4448\n",
            "Epoch: 9/20... Step: 1220... Loss: 1.4338... Val Loss: 1.4443\n",
            "Epoch: 9/20... Step: 1230... Loss: 1.4216... Val Loss: 1.4412\n",
            "Epoch: 9/20... Step: 1240... Loss: 1.4277... Val Loss: 1.4364\n",
            "Epoch: 9/20... Step: 1250... Loss: 1.4324... Val Loss: 1.4342\n",
            "Epoch: 10/20... Step: 1260... Loss: 1.4315... Val Loss: 1.4353\n",
            "Epoch: 10/20... Step: 1270... Loss: 1.4285... Val Loss: 1.4349\n",
            "Epoch: 10/20... Step: 1280... Loss: 1.4399... Val Loss: 1.4259\n",
            "Epoch: 10/20... Step: 1290... Loss: 1.4364... Val Loss: 1.4289\n",
            "Epoch: 10/20... Step: 1300... Loss: 1.4181... Val Loss: 1.4234\n",
            "Epoch: 10/20... Step: 1310... Loss: 1.4273... Val Loss: 1.4231\n",
            "Epoch: 10/20... Step: 1320... Loss: 1.3914... Val Loss: 1.4236\n",
            "Epoch: 10/20... Step: 1330... Loss: 1.4003... Val Loss: 1.4191\n",
            "Epoch: 10/20... Step: 1340... Loss: 1.3823... Val Loss: 1.4171\n",
            "Epoch: 10/20... Step: 1350... Loss: 1.3787... Val Loss: 1.4159\n",
            "Epoch: 10/20... Step: 1360... Loss: 1.3826... Val Loss: 1.4129\n",
            "Epoch: 10/20... Step: 1370... Loss: 1.3802... Val Loss: 1.4109\n",
            "Epoch: 10/20... Step: 1380... Loss: 1.4141... Val Loss: 1.4094\n",
            "Epoch: 10/20... Step: 1390... Loss: 1.4215... Val Loss: 1.4075\n",
            "Epoch: 11/20... Step: 1400... Loss: 1.4250... Val Loss: 1.4099\n",
            "Epoch: 11/20... Step: 1410... Loss: 1.4421... Val Loss: 1.4090\n",
            "Epoch: 11/20... Step: 1420... Loss: 1.4268... Val Loss: 1.4018\n",
            "Epoch: 11/20... Step: 1430... Loss: 1.3936... Val Loss: 1.4050\n",
            "Epoch: 11/20... Step: 1440... Loss: 1.4190... Val Loss: 1.4000\n",
            "Epoch: 11/20... Step: 1450... Loss: 1.3473... Val Loss: 1.4003\n",
            "Epoch: 11/20... Step: 1460... Loss: 1.3839... Val Loss: 1.3997\n",
            "Epoch: 11/20... Step: 1470... Loss: 1.3731... Val Loss: 1.3981\n",
            "Epoch: 11/20... Step: 1480... Loss: 1.3831... Val Loss: 1.3921\n",
            "Epoch: 11/20... Step: 1490... Loss: 1.3689... Val Loss: 1.3915\n",
            "Epoch: 11/20... Step: 1500... Loss: 1.3508... Val Loss: 1.3960\n",
            "Epoch: 11/20... Step: 1510... Loss: 1.3497... Val Loss: 1.3947\n",
            "Epoch: 11/20... Step: 1520... Loss: 1.3802... Val Loss: 1.3910\n",
            "Epoch: 12/20... Step: 1530... Loss: 1.4265... Val Loss: 1.3916\n",
            "Epoch: 12/20... Step: 1540... Loss: 1.3836... Val Loss: 1.3861\n",
            "Epoch: 12/20... Step: 1550... Loss: 1.3942... Val Loss: 1.3849\n",
            "Epoch: 12/20... Step: 1560... Loss: 1.4000... Val Loss: 1.3810\n",
            "Epoch: 12/20... Step: 1570... Loss: 1.3516... Val Loss: 1.3817\n",
            "Epoch: 12/20... Step: 1580... Loss: 1.3232... Val Loss: 1.3785\n",
            "Epoch: 12/20... Step: 1590... Loss: 1.3286... Val Loss: 1.3788\n",
            "Epoch: 12/20... Step: 1600... Loss: 1.3502... Val Loss: 1.3771\n",
            "Epoch: 12/20... Step: 1610... Loss: 1.3397... Val Loss: 1.3767\n",
            "Epoch: 12/20... Step: 1620... Loss: 1.3312... Val Loss: 1.3738\n",
            "Epoch: 12/20... Step: 1630... Loss: 1.3595... Val Loss: 1.3731\n",
            "Epoch: 12/20... Step: 1640... Loss: 1.3396... Val Loss: 1.3735\n",
            "Epoch: 12/20... Step: 1650... Loss: 1.3162... Val Loss: 1.3715\n",
            "Epoch: 12/20... Step: 1660... Loss: 1.3683... Val Loss: 1.3664\n",
            "Epoch: 13/20... Step: 1670... Loss: 1.3361... Val Loss: 1.3682\n",
            "Epoch: 13/20... Step: 1680... Loss: 1.3499... Val Loss: 1.3649\n",
            "Epoch: 13/20... Step: 1690... Loss: 1.3317... Val Loss: 1.3632\n",
            "Epoch: 13/20... Step: 1700... Loss: 1.3240... Val Loss: 1.3619\n",
            "Epoch: 13/20... Step: 1710... Loss: 1.3095... Val Loss: 1.3605\n",
            "Epoch: 13/20... Step: 1720... Loss: 1.3246... Val Loss: 1.3550\n",
            "Epoch: 13/20... Step: 1730... Loss: 1.3636... Val Loss: 1.3559\n",
            "Epoch: 13/20... Step: 1740... Loss: 1.3180... Val Loss: 1.3504\n",
            "Epoch: 13/20... Step: 1750... Loss: 1.2919... Val Loss: 1.3562\n",
            "Epoch: 13/20... Step: 1760... Loss: 1.3116... Val Loss: 1.3529\n",
            "Epoch: 13/20... Step: 1770... Loss: 1.3393... Val Loss: 1.3503\n",
            "Epoch: 13/20... Step: 1780... Loss: 1.3080... Val Loss: 1.3482\n",
            "Epoch: 13/20... Step: 1790... Loss: 1.2962... Val Loss: 1.3473\n",
            "Epoch: 13/20... Step: 1800... Loss: 1.3265... Val Loss: 1.3434\n",
            "Epoch: 14/20... Step: 1810... Loss: 1.3239... Val Loss: 1.3455\n",
            "Epoch: 14/20... Step: 1820... Loss: 1.3109... Val Loss: 1.3436\n",
            "Epoch: 14/20... Step: 1830... Loss: 1.3301... Val Loss: 1.3386\n",
            "Epoch: 14/20... Step: 1840... Loss: 1.2743... Val Loss: 1.3405\n",
            "Epoch: 14/20... Step: 1850... Loss: 1.2629... Val Loss: 1.3368\n",
            "Epoch: 14/20... Step: 1860... Loss: 1.3180... Val Loss: 1.3331\n",
            "Epoch: 14/20... Step: 1870... Loss: 1.3209... Val Loss: 1.3367\n",
            "Epoch: 14/20... Step: 1880... Loss: 1.3073... Val Loss: 1.3401\n",
            "Epoch: 14/20... Step: 1890... Loss: 1.3233... Val Loss: 1.3346\n",
            "Epoch: 14/20... Step: 1900... Loss: 1.3069... Val Loss: 1.3301\n",
            "Epoch: 14/20... Step: 1910... Loss: 1.2961... Val Loss: 1.3321\n",
            "Epoch: 14/20... Step: 1920... Loss: 1.2985... Val Loss: 1.3315\n",
            "Epoch: 14/20... Step: 1930... Loss: 1.2675... Val Loss: 1.3282\n",
            "Epoch: 14/20... Step: 1940... Loss: 1.3210... Val Loss: 1.3274\n",
            "Epoch: 15/20... Step: 1950... Loss: 1.2876... Val Loss: 1.3276\n",
            "Epoch: 15/20... Step: 1960... Loss: 1.2886... Val Loss: 1.3227\n",
            "Epoch: 15/20... Step: 1970... Loss: 1.2821... Val Loss: 1.3253\n",
            "Epoch: 15/20... Step: 1980... Loss: 1.2820... Val Loss: 1.3254\n",
            "Epoch: 15/20... Step: 1990... Loss: 1.2755... Val Loss: 1.3296\n",
            "Epoch: 15/20... Step: 2000... Loss: 1.2604... Val Loss: 1.3254\n",
            "Epoch: 15/20... Step: 2010... Loss: 1.2814... Val Loss: 1.3242\n",
            "Epoch: 15/20... Step: 2020... Loss: 1.2954... Val Loss: 1.3200\n",
            "Epoch: 15/20... Step: 2030... Loss: 1.2784... Val Loss: 1.3228\n",
            "Epoch: 15/20... Step: 2040... Loss: 1.2936... Val Loss: 1.3211\n",
            "Epoch: 15/20... Step: 2050... Loss: 1.2690... Val Loss: 1.3187\n",
            "Epoch: 15/20... Step: 2060... Loss: 1.2751... Val Loss: 1.3182\n",
            "Epoch: 15/20... Step: 2070... Loss: 1.2869... Val Loss: 1.3131\n",
            "Epoch: 15/20... Step: 2080... Loss: 1.2705... Val Loss: 1.3166\n",
            "Epoch: 16/20... Step: 2090... Loss: 1.2934... Val Loss: 1.3221\n",
            "Epoch: 16/20... Step: 2100... Loss: 1.2700... Val Loss: 1.3110\n",
            "Epoch: 16/20... Step: 2110... Loss: 1.2625... Val Loss: 1.3108\n",
            "Epoch: 16/20... Step: 2120... Loss: 1.2758... Val Loss: 1.3196\n",
            "Epoch: 16/20... Step: 2130... Loss: 1.2477... Val Loss: 1.3126\n",
            "Epoch: 16/20... Step: 2140... Loss: 1.2575... Val Loss: 1.3091\n",
            "Epoch: 16/20... Step: 2150... Loss: 1.2816... Val Loss: 1.3125\n",
            "Epoch: 16/20... Step: 2160... Loss: 1.2615... Val Loss: 1.3090\n",
            "Epoch: 16/20... Step: 2170... Loss: 1.2642... Val Loss: 1.3130\n",
            "Epoch: 16/20... Step: 2180... Loss: 1.2505... Val Loss: 1.3159\n",
            "Epoch: 16/20... Step: 2190... Loss: 1.2781... Val Loss: 1.3087\n",
            "Epoch: 16/20... Step: 2200... Loss: 1.2555... Val Loss: 1.3058\n",
            "Epoch: 16/20... Step: 2210... Loss: 1.2245... Val Loss: 1.2992\n",
            "Epoch: 16/20... Step: 2220... Loss: 1.2703... Val Loss: 1.3043\n",
            "Epoch: 17/20... Step: 2230... Loss: 1.2390... Val Loss: 1.3056\n",
            "Epoch: 17/20... Step: 2240... Loss: 1.2469... Val Loss: 1.2986\n",
            "Epoch: 17/20... Step: 2250... Loss: 1.2359... Val Loss: 1.2996\n",
            "Epoch: 17/20... Step: 2260... Loss: 1.2466... Val Loss: 1.3028\n",
            "Epoch: 17/20... Step: 2270... Loss: 1.2628... Val Loss: 1.3062\n",
            "Epoch: 17/20... Step: 2280... Loss: 1.2535... Val Loss: 1.3000\n",
            "Epoch: 17/20... Step: 2290... Loss: 1.2472... Val Loss: 1.3025\n",
            "Epoch: 17/20... Step: 2300... Loss: 1.2131... Val Loss: 1.2991\n",
            "Epoch: 17/20... Step: 2310... Loss: 1.2385... Val Loss: 1.2995\n",
            "Epoch: 17/20... Step: 2320... Loss: 1.2319... Val Loss: 1.2973\n",
            "Epoch: 17/20... Step: 2330... Loss: 1.2337... Val Loss: 1.3015\n",
            "Epoch: 17/20... Step: 2340... Loss: 1.2553... Val Loss: 1.3008\n",
            "Epoch: 17/20... Step: 2350... Loss: 1.2501... Val Loss: 1.2916\n",
            "Epoch: 17/20... Step: 2360... Loss: 1.2539... Val Loss: 1.2979\n",
            "Epoch: 18/20... Step: 2370... Loss: 1.2320... Val Loss: 1.2990\n",
            "Epoch: 18/20... Step: 2380... Loss: 1.2364... Val Loss: 1.2948\n",
            "Epoch: 18/20... Step: 2390... Loss: 1.2271... Val Loss: 1.2915\n",
            "Epoch: 18/20... Step: 2400... Loss: 1.2546... Val Loss: 1.2944\n",
            "Epoch: 18/20... Step: 2410... Loss: 1.2449... Val Loss: 1.2919\n",
            "Epoch: 18/20... Step: 2420... Loss: 1.2264... Val Loss: 1.2904\n",
            "Epoch: 18/20... Step: 2430... Loss: 1.2400... Val Loss: 1.2977\n",
            "Epoch: 18/20... Step: 2440... Loss: 1.2240... Val Loss: 1.2974\n",
            "Epoch: 18/20... Step: 2450... Loss: 1.2280... Val Loss: 1.2905\n",
            "Epoch: 18/20... Step: 2460... Loss: 1.2387... Val Loss: 1.2910\n",
            "Epoch: 18/20... Step: 2470... Loss: 1.2309... Val Loss: 1.2975\n",
            "Epoch: 18/20... Step: 2480... Loss: 1.2135... Val Loss: 1.2927\n",
            "Epoch: 18/20... Step: 2490... Loss: 1.2181... Val Loss: 1.2823\n",
            "Epoch: 18/20... Step: 2500... Loss: 1.2169... Val Loss: 1.2806\n",
            "Epoch: 19/20... Step: 2510... Loss: 1.2175... Val Loss: 1.2818\n",
            "Epoch: 19/20... Step: 2520... Loss: 1.2382... Val Loss: 1.2849\n",
            "Epoch: 19/20... Step: 2530... Loss: 1.2512... Val Loss: 1.2879\n",
            "Epoch: 19/20... Step: 2540... Loss: 1.2545... Val Loss: 1.2867\n",
            "Epoch: 19/20... Step: 2550... Loss: 1.2154... Val Loss: 1.2883\n",
            "Epoch: 19/20... Step: 2560... Loss: 1.2321... Val Loss: 1.2807\n",
            "Epoch: 19/20... Step: 2570... Loss: 1.2088... Val Loss: 1.2862\n",
            "Epoch: 19/20... Step: 2580... Loss: 1.2473... Val Loss: 1.2831\n",
            "Epoch: 19/20... Step: 2590... Loss: 1.2164... Val Loss: 1.2781\n",
            "Epoch: 19/20... Step: 2600... Loss: 1.2084... Val Loss: 1.2810\n",
            "Epoch: 19/20... Step: 2610... Loss: 1.2188... Val Loss: 1.2868\n",
            "Epoch: 19/20... Step: 2620... Loss: 1.2060... Val Loss: 1.2870\n",
            "Epoch: 19/20... Step: 2630... Loss: 1.2044... Val Loss: 1.2773\n",
            "Epoch: 19/20... Step: 2640... Loss: 1.2224... Val Loss: 1.2787\n",
            "Epoch: 20/20... Step: 2650... Loss: 1.2194... Val Loss: 1.2825\n",
            "Epoch: 20/20... Step: 2660... Loss: 1.2250... Val Loss: 1.2802\n",
            "Epoch: 20/20... Step: 2670... Loss: 1.2354... Val Loss: 1.2789\n",
            "Epoch: 20/20... Step: 2680... Loss: 1.2231... Val Loss: 1.2800\n",
            "Epoch: 20/20... Step: 2690... Loss: 1.2181... Val Loss: 1.2788\n",
            "Epoch: 20/20... Step: 2700... Loss: 1.2155... Val Loss: 1.2749\n",
            "Epoch: 20/20... Step: 2710... Loss: 1.1927... Val Loss: 1.2781\n",
            "Epoch: 20/20... Step: 2720... Loss: 1.2029... Val Loss: 1.2798\n",
            "Epoch: 20/20... Step: 2730... Loss: 1.1914... Val Loss: 1.2766\n",
            "Epoch: 20/20... Step: 2740... Loss: 1.1952... Val Loss: 1.2751\n",
            "Epoch: 20/20... Step: 2750... Loss: 1.1977... Val Loss: 1.2806\n",
            "Epoch: 20/20... Step: 2760... Loss: 1.1877... Val Loss: 1.2820\n",
            "Epoch: 20/20... Step: 2770... Loss: 1.2163... Val Loss: 1.2685\n",
            "Epoch: 20/20... Step: 2780... Loss: 1.2505... Val Loss: 1.2757\n"
          ],
          "name": "stdout"
        }
      ]
    },
    {
      "cell_type": "markdown",
      "metadata": {
        "id": "0Haqc8b3SSZH",
        "colab_type": "text"
      },
      "source": [
        "## Getting the best model\n",
        "\n",
        "To set your hyperparameters to get the best performance, you'll want to watch the training and validation losses. If your training loss is much lower than the validation loss, you're overfitting. Increase regularization (more dropout) or use a smaller network. If the training and validation losses are close, you're underfitting so you can increase the size of the network."
      ]
    },
    {
      "cell_type": "markdown",
      "metadata": {
        "id": "lF2UQpaUSSZI",
        "colab_type": "text"
      },
      "source": [
        "## Hyperparameters\n",
        "\n",
        "Here are the hyperparameters for the network.\n",
        "\n",
        "In defining the model:\n",
        "* `n_hidden` - The number of units in the hidden layers.\n",
        "* `n_layers` - Number of hidden LSTM layers to use.\n",
        "\n",
        "We assume that dropout probability and learning rate will be kept at the default, in this example.\n",
        "\n",
        "And in training:\n",
        "* `batch_size` - Number of sequences running through the network in one pass.\n",
        "* `seq_length` - Number of characters in the sequence the network is trained on. Larger is better typically, the network will learn more long range dependencies. But it takes longer to train. 100 is typically a good number here.\n",
        "* `lr` - Learning rate for training\n",
        "\n",
        "Here's some good advice from Andrej Karpathy on training the network. I'm going to copy it in here for your benefit, but also link to [where it originally came from](https://github.com/karpathy/char-rnn#tips-and-tricks).\n",
        "\n",
        "> ## Tips and Tricks\n",
        "\n",
        ">### Monitoring Validation Loss vs. Training Loss\n",
        ">If you're somewhat new to Machine Learning or Neural Networks it can take a bit of expertise to get good models. The most important quantity to keep track of is the difference between your training loss (printed during training) and the validation loss (printed once in a while when the RNN is run on the validation data (by default every 1000 iterations)). In particular:\n",
        "\n",
        "> - If your training loss is much lower than validation loss then this means the network might be **overfitting**. Solutions to this are to decrease your network size, or to increase dropout. For example you could try dropout of 0.5 and so on.\n",
        "> - If your training/validation loss are about equal then your model is **underfitting**. Increase the size of your model (either number of layers or the raw number of neurons per layer)\n",
        "\n",
        "> ### Approximate number of parameters\n",
        "\n",
        "> The two most important parameters that control the model are `n_hidden` and `n_layers`. I would advise that you always use `n_layers` of either 2/3. The `n_hidden` can be adjusted based on how much data you have. The two important quantities to keep track of here are:\n",
        "\n",
        "> - The number of parameters in your model. This is printed when you start training.\n",
        "> - The size of your dataset. 1MB file is approximately 1 million characters.\n",
        "\n",
        ">These two should be about the same order of magnitude. It's a little tricky to tell. Here are some examples:\n",
        "\n",
        "> - I have a 100MB dataset and I'm using the default parameter settings (which currently print 150K parameters). My data size is significantly larger (100 mil >> 0.15 mil), so I expect to heavily underfit. I am thinking I can comfortably afford to make `n_hidden` larger.\n",
        "> - I have a 10MB dataset and running a 10 million parameter model. I'm slightly nervous and I'm carefully monitoring my validation loss. If it's larger than my training loss then I may want to try to increase dropout a bit and see if that helps the validation loss.\n",
        "\n",
        "> ### Best models strategy\n",
        "\n",
        ">The winning strategy to obtaining very good models (if you have the compute time) is to always err on making the network larger (as large as you're willing to wait for it to compute) and then try different dropout values (between 0,1). Whatever model has the best validation performance (the loss, written in the checkpoint filename, low is good) is the one you should use in the end.\n",
        "\n",
        ">It is very common in deep learning to run many different models with many different hyperparameter settings, and in the end take whatever checkpoint gave the best validation performance.\n",
        "\n",
        ">By the way, the size of your training and validation splits are also parameters. Make sure you have a decent amount of data in your validation set or otherwise the validation performance will be noisy and not very informative."
      ]
    },
    {
      "cell_type": "markdown",
      "metadata": {
        "id": "ojFPDvn-SSZJ",
        "colab_type": "text"
      },
      "source": [
        "## Checkpoint\n",
        "\n",
        "After training, we'll save the model so we can load it again later if we need too. Here I'm saving the parameters needed to create the same architecture, the hidden layer hyperparameters and the text characters."
      ]
    },
    {
      "cell_type": "code",
      "metadata": {
        "id": "a0RJ-TLGSSZL",
        "colab_type": "code",
        "colab": {}
      },
      "source": [
        "# change the name, for saving multiple files\n",
        "model_name = 'rnn_x_epoch.net'\n",
        "\n",
        "checkpoint = {'n_hidden': net.n_hidden,\n",
        "              'n_layers': net.n_layers,\n",
        "              'state_dict': net.state_dict(),\n",
        "              'tokens': net.chars}\n",
        "\n",
        "with open(model_name, 'wb') as f:\n",
        "    torch.save(checkpoint, f)"
      ],
      "execution_count": 0,
      "outputs": []
    },
    {
      "cell_type": "markdown",
      "metadata": {
        "id": "gf6aL7KFSSZO",
        "colab_type": "text"
      },
      "source": [
        "---\n",
        "## Making Predictions\n",
        "\n",
        "Now that the model is trained, we'll want to sample from it and make predictions about next characters! To sample, we pass in a character and have the network predict the next character. Then we take that character, pass it back in, and get another predicted character. Just keep doing this and you'll generate a bunch of text!\n",
        "\n",
        "### A note on the `predict`  function\n",
        "\n",
        "The output of our RNN is from a fully-connected layer and it outputs a **distribution of next-character scores**.\n",
        "\n",
        "> To actually get the next character, we apply a softmax function, which gives us a *probability* distribution that we can then sample to predict the next character.\n",
        "\n",
        "### Top K sampling\n",
        "\n",
        "Our predictions come from a categorical probability distribution over all the possible characters. We can make the sample text and make it more reasonable to handle (with less variables) by only considering some $K$ most probable characters. This will prevent the network from giving us completely absurd characters while allowing it to introduce some noise and randomness into the sampled text. Read more about [topk, here](https://pytorch.org/docs/stable/torch.html#torch.topk).\n"
      ]
    },
    {
      "cell_type": "code",
      "metadata": {
        "id": "RPIsshFBSSZO",
        "colab_type": "code",
        "colab": {}
      },
      "source": [
        "def predict(net, char, h=None, top_k=None):\n",
        "        ''' Given a character, predict the next character.\n",
        "            Returns the predicted character and the hidden state.\n",
        "        '''\n",
        "        \n",
        "        # tensor inputs\n",
        "        x = np.array([[net.char2int[char]]])\n",
        "        x = one_hot_encode(x, len(net.chars))\n",
        "        inputs = torch.from_numpy(x)\n",
        "        \n",
        "        if(train_on_gpu):\n",
        "            inputs = inputs.cuda()\n",
        "        \n",
        "        # detach hidden state from history\n",
        "        h = tuple([each.data for each in h])\n",
        "        # get the output of the model\n",
        "        out, h = net(inputs, h)\n",
        "\n",
        "        # get the character probabilities\n",
        "        p = F.softmax(out, dim=1).data\n",
        "        if(train_on_gpu):\n",
        "            p = p.cpu() # move to cpu\n",
        "        \n",
        "        # get top characters\n",
        "        if top_k is None:\n",
        "            top_ch = np.arange(len(net.chars))\n",
        "        else:\n",
        "            p, top_ch = p.topk(top_k)\n",
        "            top_ch = top_ch.numpy().squeeze()\n",
        "        \n",
        "        # select the likely next character with some element of randomness\n",
        "        p = p.numpy().squeeze()\n",
        "        char = np.random.choice(top_ch, p=p/p.sum())\n",
        "        \n",
        "        # return the encoded value of the predicted char and the hidden state\n",
        "        return net.int2char[char], h"
      ],
      "execution_count": 0,
      "outputs": []
    },
    {
      "cell_type": "markdown",
      "metadata": {
        "id": "_NaueVNLSSZR",
        "colab_type": "text"
      },
      "source": [
        "### Priming and generating text \n",
        "\n",
        "Typically you'll want to prime the network so you can build up a hidden state. Otherwise the network will start out generating characters at random. In general the first bunch of characters will be a little rough since it hasn't built up a long history of characters to predict from."
      ]
    },
    {
      "cell_type": "code",
      "metadata": {
        "id": "vy1hd0ccSSZS",
        "colab_type": "code",
        "colab": {}
      },
      "source": [
        "def sample(net, size, prime='The', top_k=None):\n",
        "        \n",
        "    if(train_on_gpu):\n",
        "        net.cuda()\n",
        "    else:\n",
        "        net.cpu()\n",
        "    \n",
        "    net.eval() # eval mode\n",
        "    \n",
        "    # First off, run through the prime characters\n",
        "    chars = [ch for ch in prime]\n",
        "    h = net.init_hidden(1)\n",
        "    for ch in prime:\n",
        "        char, h = predict(net, ch, h, top_k=top_k)\n",
        "\n",
        "    chars.append(char)\n",
        "    \n",
        "    # Now pass in the previous character and get a new one\n",
        "    for ii in range(size):\n",
        "        char, h = predict(net, chars[-1], h, top_k=top_k)\n",
        "        chars.append(char)\n",
        "\n",
        "    return ''.join(chars)"
      ],
      "execution_count": 0,
      "outputs": []
    },
    {
      "cell_type": "code",
      "metadata": {
        "id": "O5MTQJITSSZZ",
        "colab_type": "code",
        "outputId": "fdc3a02a-c6da-4617-9a07-c6c0c53b25fd",
        "colab": {
          "base_uri": "https://localhost:8080/",
          "height": 340
        }
      },
      "source": [
        "print(sample(net, 1000, prime='Anna', top_k=5))"
      ],
      "execution_count": 0,
      "outputs": [
        {
          "output_type": "stream",
          "text": [
            "Anna.\n",
            "\n",
            "She could not help the money to the fact. She would come about his\n",
            "face, that she had never standed, but though it was in some offere\n",
            "of too. I sat down at the servants--that second things one\n",
            "thought a lovely sharp, and wondering it in the parts and the\n",
            "creature of the weres to her house alone that he was.\n",
            "\n",
            "Alexey Alexandrovitch was sitting about all himself at home\n",
            "against him, and was anxious to see him as at once. And she clusched the\n",
            "secretary was, and showing the character she saw that she had been suffering\n",
            "at a socted, went about the clear, and at once was still\n",
            "that it was their hundred some sense of things. She was in a subjice\n",
            "in the window, and had been drinking away. And so a starm treated\n",
            "the pariness well, and he was all the steps in his fine own soul,\n",
            "he said, still a sidelote of some, as it were as he fell to time,\n",
            "his feeling and friends, the conversation are and there, and when he\n",
            "found his hand, too, who was a men take this starris and the soul in\n",
            "the country hear\n"
          ],
          "name": "stdout"
        }
      ]
    },
    {
      "cell_type": "markdown",
      "metadata": {
        "id": "LZjkafvBSSZd",
        "colab_type": "text"
      },
      "source": [
        "## Loading a checkpoint"
      ]
    },
    {
      "cell_type": "code",
      "metadata": {
        "id": "Z66HX3dXSSZe",
        "colab_type": "code",
        "outputId": "b5750aec-b2c6-4f06-f3b1-d819c292bd1c",
        "colab": {
          "base_uri": "https://localhost:8080/",
          "height": 34
        }
      },
      "source": [
        "# Here we have loaded in a model that trained over 20 epochs `rnn_20_epoch.net`\n",
        "with open('rnn_x_epoch.net', 'rb') as f:\n",
        "    checkpoint = torch.load(f)\n",
        "    \n",
        "loaded = CharRNN(checkpoint['tokens'], n_hidden=checkpoint['n_hidden'], n_layers=checkpoint['n_layers'])\n",
        "loaded.load_state_dict(checkpoint['state_dict'])"
      ],
      "execution_count": 0,
      "outputs": [
        {
          "output_type": "execute_result",
          "data": {
            "text/plain": [
              "<All keys matched successfully>"
            ]
          },
          "metadata": {
            "tags": []
          },
          "execution_count": 22
        }
      ]
    },
    {
      "cell_type": "code",
      "metadata": {
        "id": "mbNdyOYvSSZi",
        "colab_type": "code",
        "outputId": "1600da12-59c8-4c14-92b1-96bc79b16a08",
        "colab": {
          "base_uri": "https://localhost:8080/",
          "height": 782
        }
      },
      "source": [
        "# Sample using a loaded model\n",
        "print(sample(loaded, 2000, top_k=5, prime=\"And Levin said\"))"
      ],
      "execution_count": 0,
      "outputs": [
        {
          "output_type": "stream",
          "text": [
            "And Levin said\n",
            "something. And he came up. Aline she did not say that he's too,\n",
            "and a cold to tell how to talk what she could not help because\n",
            "there there wares of his freedom or that there were sitting about\n",
            "him at the threats with him the same weaking with the\n",
            "sound was sorring one head and through the front standing at her\n",
            "head that it was a mere too secure the principle of the chores or\n",
            "the carriage, the stretch of their preparations and excressing that she\n",
            "was a long while that is not sat in a stigute. But the\n",
            "most disconcertions was a portrait. Alexey Alexandrovitch had\n",
            "not come to speak.\n",
            "\n",
            "Sergey Ivanovitch saw that he felt she felt such a familiar friend with\n",
            "such a part, had been an old man the most party affectod and\n",
            "happiness with a short strong, and the sound well and her\n",
            "sister's face that he had not called the corridor there. But at\n",
            "her forminary happiness at the possibility of the water, he felt that\n",
            "that he, stroked by the memaly, and were to support that he had not\n",
            "forguttent.\n",
            "\n",
            "She had the more shaned at the companish countess alone that however\n",
            "heels went to the point of the conversation with the stranging\n",
            "face, and she stood thinks of the crapings of his care.\n",
            "\n",
            "\"Yes, I cannot be in her sensation at all so serious. It is\n",
            "tried before the marshal of table. If there were the\n",
            "fellior of trinks of the same table. It's not as it might have her\n",
            "tonate and horses to me, and there's no\n",
            "opinion that there was the frunk at a long.\n",
            "\n",
            "\n",
            "\n",
            "Chapter 6\n",
            "\n",
            "\n",
            "And her eyes with the few whole of the straight for the same,\n",
            "and he had been that her husband told the sound of his continulal\n",
            "trouble, he could not gave him a fallen, better, who was something.\n",
            "There all the same smile said, with a smile of a peasant and\n",
            "the princess was struck the pleasure and to be touching him, and\n",
            "he had been as though the crief shades of the work was at any\n",
            "subject.\n",
            "\n",
            "He found she was so much, they were charming. He could not be the close the sones\n",
            "on him with his heart she had been but that it was not, to comp\n"
          ],
          "name": "stdout"
        }
      ]
    },
    {
      "cell_type": "code",
      "metadata": {
        "id": "iQRgwUx8SSZo",
        "colab_type": "code",
        "colab": {}
      },
      "source": [
        ""
      ],
      "execution_count": 0,
      "outputs": []
    }
  ]
}